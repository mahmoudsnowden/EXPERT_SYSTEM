{
 "cells": [
  {
   "cell_type": "code",
   "execution_count": 1,
   "metadata": {},
   "outputs": [],
   "source": [
    "# Importing the libraries\n",
    "import numpy as np\n",
    "\n",
    "import pandas as pd\n",
    "import matplotlib.pyplot as plt"
   ]
  },
  {
   "cell_type": "code",
   "execution_count": 2,
   "metadata": {},
   "outputs": [
    {
     "data": {
      "text/html": [
       "<div>\n",
       "<style scoped>\n",
       "    .dataframe tbody tr th:only-of-type {\n",
       "        vertical-align: middle;\n",
       "    }\n",
       "\n",
       "    .dataframe tbody tr th {\n",
       "        vertical-align: top;\n",
       "    }\n",
       "\n",
       "    .dataframe thead th {\n",
       "        text-align: right;\n",
       "    }\n",
       "</style>\n",
       "<table border=\"1\" class=\"dataframe\">\n",
       "  <thead>\n",
       "    <tr style=\"text-align: right;\">\n",
       "      <th></th>\n",
       "      <th>high_GPA</th>\n",
       "      <th>math_SAT</th>\n",
       "      <th>verb_SAT</th>\n",
       "      <th>comp_GPA</th>\n",
       "      <th>univ_GPA</th>\n",
       "    </tr>\n",
       "  </thead>\n",
       "  <tbody>\n",
       "    <tr>\n",
       "      <td>0</td>\n",
       "      <td>3.45</td>\n",
       "      <td>643</td>\n",
       "      <td>589</td>\n",
       "      <td>3.76</td>\n",
       "      <td>3.52</td>\n",
       "    </tr>\n",
       "    <tr>\n",
       "      <td>1</td>\n",
       "      <td>2.78</td>\n",
       "      <td>558</td>\n",
       "      <td>512</td>\n",
       "      <td>2.87</td>\n",
       "      <td>2.91</td>\n",
       "    </tr>\n",
       "    <tr>\n",
       "      <td>2</td>\n",
       "      <td>2.52</td>\n",
       "      <td>583</td>\n",
       "      <td>503</td>\n",
       "      <td>2.54</td>\n",
       "      <td>2.40</td>\n",
       "    </tr>\n",
       "    <tr>\n",
       "      <td>3</td>\n",
       "      <td>3.67</td>\n",
       "      <td>685</td>\n",
       "      <td>602</td>\n",
       "      <td>3.83</td>\n",
       "      <td>3.47</td>\n",
       "    </tr>\n",
       "    <tr>\n",
       "      <td>4</td>\n",
       "      <td>3.24</td>\n",
       "      <td>592</td>\n",
       "      <td>538</td>\n",
       "      <td>3.29</td>\n",
       "      <td>3.47</td>\n",
       "    </tr>\n",
       "    <tr>\n",
       "      <td>5</td>\n",
       "      <td>2.10</td>\n",
       "      <td>562</td>\n",
       "      <td>486</td>\n",
       "      <td>2.64</td>\n",
       "      <td>2.37</td>\n",
       "    </tr>\n",
       "    <tr>\n",
       "      <td>6</td>\n",
       "      <td>2.82</td>\n",
       "      <td>573</td>\n",
       "      <td>548</td>\n",
       "      <td>2.86</td>\n",
       "      <td>2.40</td>\n",
       "    </tr>\n",
       "    <tr>\n",
       "      <td>7</td>\n",
       "      <td>2.36</td>\n",
       "      <td>559</td>\n",
       "      <td>536</td>\n",
       "      <td>2.03</td>\n",
       "      <td>2.24</td>\n",
       "    </tr>\n",
       "    <tr>\n",
       "      <td>8</td>\n",
       "      <td>2.42</td>\n",
       "      <td>552</td>\n",
       "      <td>583</td>\n",
       "      <td>2.81</td>\n",
       "      <td>3.02</td>\n",
       "    </tr>\n",
       "    <tr>\n",
       "      <td>9</td>\n",
       "      <td>3.51</td>\n",
       "      <td>617</td>\n",
       "      <td>591</td>\n",
       "      <td>3.41</td>\n",
       "      <td>3.32</td>\n",
       "    </tr>\n",
       "  </tbody>\n",
       "</table>\n",
       "</div>"
      ],
      "text/plain": [
       "   high_GPA  math_SAT  verb_SAT  comp_GPA  univ_GPA\n",
       "0      3.45       643       589      3.76      3.52\n",
       "1      2.78       558       512      2.87      2.91\n",
       "2      2.52       583       503      2.54      2.40\n",
       "3      3.67       685       602      3.83      3.47\n",
       "4      3.24       592       538      3.29      3.47\n",
       "5      2.10       562       486      2.64      2.37\n",
       "6      2.82       573       548      2.86      2.40\n",
       "7      2.36       559       536      2.03      2.24\n",
       "8      2.42       552       583      2.81      3.02\n",
       "9      3.51       617       591      3.41      3.32"
      ]
     },
     "execution_count": 2,
     "metadata": {},
     "output_type": "execute_result"
    }
   ],
   "source": [
    "# Importing the dataset\n",
    "dataset = pd.read_csv('data.csv')\n",
    "dataset.head(10)"
   ]
  },
  {
   "cell_type": "code",
   "execution_count": 3,
   "metadata": {},
   "outputs": [
    {
     "data": {
      "text/plain": [
       "array([3.52, 2.91, 2.4 , 3.47, 3.47, 2.37, 2.4 , 2.24, 3.02, 3.32, 3.59,\n",
       "       2.54, 3.19, 3.71, 3.58, 3.4 , 3.73, 3.49, 2.25, 2.37, 3.29, 3.19,\n",
       "       3.28, 3.37, 3.61, 3.81, 2.4 , 2.21, 3.58, 3.51, 3.62, 3.6 , 3.65,\n",
       "       3.76, 2.27, 2.35, 3.17, 3.47, 3.  , 2.74, 3.37, 3.54, 3.28, 3.39,\n",
       "       3.28, 3.19, 2.52, 3.08, 3.01, 3.42, 3.6 , 2.4 , 2.83, 2.38, 3.21,\n",
       "       2.24, 3.4 , 3.07, 3.52, 3.47, 3.08, 3.38, 3.41, 3.64, 3.71, 3.01,\n",
       "       3.37, 2.34, 3.29, 3.4 , 3.38, 3.28, 3.31, 3.42, 3.39, 3.51, 3.17,\n",
       "       3.2 , 3.41, 3.29, 3.17, 3.12, 3.71, 3.5 , 3.34, 3.48, 3.44, 3.59,\n",
       "       3.28, 3.  , 3.42, 3.41, 3.49, 3.28, 3.17, 3.24, 2.34, 3.28, 2.29,\n",
       "       2.08, 3.64, 3.42, 3.25, 2.76, 3.41])"
      ]
     },
     "execution_count": 3,
     "metadata": {},
     "output_type": "execute_result"
    }
   ],
   "source": [
    "# independent variables (Gender,length) >>>>> features\n",
    "X = dataset.iloc[:, [0,4]].values\n",
    "# dependent variable (weight) >>>> output \n",
    "y = dataset.iloc[:, 4].values\n",
    "\n",
    "y"
   ]
  },
  {
   "cell_type": "code",
   "execution_count": 4,
   "metadata": {},
   "outputs": [
    {
     "data": {
      "text/plain": [
       "array([2.4 , 3.38, 2.4 , 3.41, 3.48, 3.01, 3.73, 3.64, 3.4 , 3.19, 3.37,\n",
       "       3.28, 2.4 , 3.71, 2.24, 3.62, 3.28, 3.61, 3.76, 3.02, 3.39])"
      ]
     },
     "execution_count": 4,
     "metadata": {},
     "output_type": "execute_result"
    }
   ],
   "source": [
    "# Splitting the dataset into the Training set and Test set\n",
    "from sklearn.model_selection import train_test_split\n",
    "X_train, X_test, y_train, y_test = train_test_split(X, y, test_size = 0.20, random_state = 0)\n",
    "y_test"
   ]
  },
  {
   "cell_type": "code",
   "execution_count": 5,
   "metadata": {},
   "outputs": [
    {
     "name": "stderr",
     "output_type": "stream",
     "text": [
      "C:\\Users\\mahmoudRamadan\\Anaconda3\\lib\\site-packages\\sklearn\\svm\\base.py:193: FutureWarning: The default value of gamma will change from 'auto' to 'scale' in version 0.22 to account better for unscaled features. Set gamma explicitly to 'auto' or 'scale' to avoid this warning.\n",
      "  \"avoid this warning.\", FutureWarning)\n"
     ]
    },
    {
     "data": {
      "text/plain": [
       "SVR(C=1.0, cache_size=200, coef0=0.0, degree=3, epsilon=0.1,\n",
       "    gamma='auto_deprecated', kernel='rbf', max_iter=-1, shrinking=True,\n",
       "    tol=0.001, verbose=False)"
      ]
     },
     "execution_count": 5,
     "metadata": {},
     "output_type": "execute_result"
    }
   ],
   "source": [
    "from sklearn.svm import SVR\n",
    "regressor = SVR()  # object or instance from SVR\n",
    "regressor.fit(X_train, np.ravel(y_train,order='C')) # train the model\n"
   ]
  },
  {
   "cell_type": "code",
   "execution_count": 6,
   "metadata": {},
   "outputs": [
    {
     "data": {
      "text/plain": [
       "array([2.36227181, 3.38038483, 2.36212311, 3.41504408, 3.46675217,\n",
       "       3.03238786, 3.68123414, 3.63790799, 3.37683494, 3.11992703,\n",
       "       3.43159216, 3.28339657, 2.3896968 , 3.6397209 , 2.28204932,\n",
       "       3.60638837, 3.20150723, 3.60734333, 3.68800783, 2.95183082,\n",
       "       3.31909937])"
      ]
     },
     "execution_count": 6,
     "metadata": {},
     "output_type": "execute_result"
    }
   ],
   "source": [
    "# Predicting the Test set results\n",
    "y_pred = regressor.predict(X_test)\n",
    "y_pred"
   ]
  },
  {
   "cell_type": "code",
   "execution_count": 7,
   "metadata": {
    "scrolled": true
   },
   "outputs": [
    {
     "data": {
      "text/html": [
       "<div>\n",
       "<style scoped>\n",
       "    .dataframe tbody tr th:only-of-type {\n",
       "        vertical-align: middle;\n",
       "    }\n",
       "\n",
       "    .dataframe tbody tr th {\n",
       "        vertical-align: top;\n",
       "    }\n",
       "\n",
       "    .dataframe thead th {\n",
       "        text-align: right;\n",
       "    }\n",
       "</style>\n",
       "<table border=\"1\" class=\"dataframe\">\n",
       "  <thead>\n",
       "    <tr style=\"text-align: right;\">\n",
       "      <th></th>\n",
       "      <th>Actual</th>\n",
       "      <th>Predicted</th>\n",
       "    </tr>\n",
       "  </thead>\n",
       "  <tbody>\n",
       "    <tr>\n",
       "      <td>0</td>\n",
       "      <td>2.40</td>\n",
       "      <td>2.362272</td>\n",
       "    </tr>\n",
       "    <tr>\n",
       "      <td>1</td>\n",
       "      <td>3.38</td>\n",
       "      <td>3.380385</td>\n",
       "    </tr>\n",
       "    <tr>\n",
       "      <td>2</td>\n",
       "      <td>2.40</td>\n",
       "      <td>2.362123</td>\n",
       "    </tr>\n",
       "    <tr>\n",
       "      <td>3</td>\n",
       "      <td>3.41</td>\n",
       "      <td>3.415044</td>\n",
       "    </tr>\n",
       "    <tr>\n",
       "      <td>4</td>\n",
       "      <td>3.48</td>\n",
       "      <td>3.466752</td>\n",
       "    </tr>\n",
       "    <tr>\n",
       "      <td>5</td>\n",
       "      <td>3.01</td>\n",
       "      <td>3.032388</td>\n",
       "    </tr>\n",
       "    <tr>\n",
       "      <td>6</td>\n",
       "      <td>3.73</td>\n",
       "      <td>3.681234</td>\n",
       "    </tr>\n",
       "    <tr>\n",
       "      <td>7</td>\n",
       "      <td>3.64</td>\n",
       "      <td>3.637908</td>\n",
       "    </tr>\n",
       "    <tr>\n",
       "      <td>8</td>\n",
       "      <td>3.40</td>\n",
       "      <td>3.376835</td>\n",
       "    </tr>\n",
       "    <tr>\n",
       "      <td>9</td>\n",
       "      <td>3.19</td>\n",
       "      <td>3.119927</td>\n",
       "    </tr>\n",
       "    <tr>\n",
       "      <td>10</td>\n",
       "      <td>3.37</td>\n",
       "      <td>3.431592</td>\n",
       "    </tr>\n",
       "    <tr>\n",
       "      <td>11</td>\n",
       "      <td>3.28</td>\n",
       "      <td>3.283397</td>\n",
       "    </tr>\n",
       "    <tr>\n",
       "      <td>12</td>\n",
       "      <td>2.40</td>\n",
       "      <td>2.389697</td>\n",
       "    </tr>\n",
       "    <tr>\n",
       "      <td>13</td>\n",
       "      <td>3.71</td>\n",
       "      <td>3.639721</td>\n",
       "    </tr>\n",
       "    <tr>\n",
       "      <td>14</td>\n",
       "      <td>2.24</td>\n",
       "      <td>2.282049</td>\n",
       "    </tr>\n",
       "    <tr>\n",
       "      <td>15</td>\n",
       "      <td>3.62</td>\n",
       "      <td>3.606388</td>\n",
       "    </tr>\n",
       "    <tr>\n",
       "      <td>16</td>\n",
       "      <td>3.28</td>\n",
       "      <td>3.201507</td>\n",
       "    </tr>\n",
       "    <tr>\n",
       "      <td>17</td>\n",
       "      <td>3.61</td>\n",
       "      <td>3.607343</td>\n",
       "    </tr>\n",
       "    <tr>\n",
       "      <td>18</td>\n",
       "      <td>3.76</td>\n",
       "      <td>3.688008</td>\n",
       "    </tr>\n",
       "    <tr>\n",
       "      <td>19</td>\n",
       "      <td>3.02</td>\n",
       "      <td>2.951831</td>\n",
       "    </tr>\n",
       "    <tr>\n",
       "      <td>20</td>\n",
       "      <td>3.39</td>\n",
       "      <td>3.319099</td>\n",
       "    </tr>\n",
       "  </tbody>\n",
       "</table>\n",
       "</div>"
      ],
      "text/plain": [
       "    Actual  Predicted\n",
       "0     2.40   2.362272\n",
       "1     3.38   3.380385\n",
       "2     2.40   2.362123\n",
       "3     3.41   3.415044\n",
       "4     3.48   3.466752\n",
       "5     3.01   3.032388\n",
       "6     3.73   3.681234\n",
       "7     3.64   3.637908\n",
       "8     3.40   3.376835\n",
       "9     3.19   3.119927\n",
       "10    3.37   3.431592\n",
       "11    3.28   3.283397\n",
       "12    2.40   2.389697\n",
       "13    3.71   3.639721\n",
       "14    2.24   2.282049\n",
       "15    3.62   3.606388\n",
       "16    3.28   3.201507\n",
       "17    3.61   3.607343\n",
       "18    3.76   3.688008\n",
       "19    3.02   2.951831\n",
       "20    3.39   3.319099"
      ]
     },
     "execution_count": 7,
     "metadata": {},
     "output_type": "execute_result"
    }
   ],
   "source": [
    "# comparing actual data with predicted data\n",
    "df= pd.DataFrame({'Actual': list(y_test), 'Predicted': y_pred})\n",
    "df"
   ]
  },
  {
   "cell_type": "code",
   "execution_count": 8,
   "metadata": {},
   "outputs": [
    {
     "name": "stdout",
     "output_type": "stream",
     "text": [
      "Mean Absolute Error    : 0.035914714169756036\n",
      "Mean Squared Error     : 0.0020580264674757\n",
      "Root Mean Squared Error: 0.04536547660364322\n"
     ]
    }
   ],
   "source": [
    "from sklearn.metrics import mean_absolute_error,mean_squared_error\n",
    "from math import sqrt\n",
    "print('Mean Absolute Error    :', mean_absolute_error(y_test, y_pred))\n",
    "print('Mean Squared Error     :', mean_squared_error(y_test, y_pred))\n",
    "print('Root Mean Squared Error:', sqrt(mean_squared_error(y_test, y_pred)))"
   ]
  },
  {
   "cell_type": "code",
   "execution_count": 9,
   "metadata": {},
   "outputs": [],
   "source": [
    "# # Visualising the Training set results\n",
    "# plt.scatter(X_train, y_train, color = 'red')\n",
    "# # plt.scatter(X_test, y_test, color = 'green')\n",
    "# plt.plot(X_train, regressor.predict(X_train), color = 'blue')\n",
    "# plt.title('SAT degrees')\n",
    "# plt.xlabel('high_GPA')\n",
    "# plt.ylabel('univ_GPA')\n",
    "# plt.show()"
   ]
  },
  {
   "cell_type": "code",
   "execution_count": null,
   "metadata": {},
   "outputs": [],
   "source": []
  }
 ],
 "metadata": {
  "kernelspec": {
   "display_name": "Python 3",
   "language": "python",
   "name": "python3"
  },
  "language_info": {
   "codemirror_mode": {
    "name": "ipython",
    "version": 3
   },
   "file_extension": ".py",
   "mimetype": "text/x-python",
   "name": "python",
   "nbconvert_exporter": "python",
   "pygments_lexer": "ipython3",
   "version": "3.7.4"
  }
 },
 "nbformat": 4,
 "nbformat_minor": 2
}
